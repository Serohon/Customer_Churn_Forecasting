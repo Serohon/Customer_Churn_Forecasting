{
 "cells": [
  {
   "cell_type": "markdown",
   "source": [
    "## Import Libraries"
   ],
   "metadata": {
    "collapsed": false
   },
   "id": "4045294e0f74b039"
  },
  {
   "cell_type": "code",
   "execution_count": 6,
   "id": "initial_id",
   "metadata": {
    "collapsed": true,
    "ExecuteTime": {
     "end_time": "2024-08-16T08:08:26.938857900Z",
     "start_time": "2024-08-16T08:08:26.894856500Z"
    }
   },
   "outputs": [],
   "source": [
    "import pandas as pd\n",
    "from sklearn.ensemble import RandomForestClassifier\n",
    "from catboost import *\n",
    "from lightgbm import *\n",
    "from sklearn.model_selection import train_test_split, RandomizedSearchCV\n",
    "from sklearn.metrics import f1_score"
   ]
  },
  {
   "cell_type": "markdown",
   "source": [
    "## Split data for train test"
   ],
   "metadata": {
    "collapsed": false
   },
   "id": "2ac87f656eec2833"
  },
  {
   "cell_type": "code",
   "execution_count": 7,
   "outputs": [],
   "source": [
    "df = pd.read_csv('Explored.csv')\n",
    "df.drop('Unnamed: 0', axis=1, inplace=True)\n",
    "y = df['Churn Value']\n",
    "X = df.drop('Churn Value', axis=1)\n",
    "X_train, X_test, y_train, y_test = train_test_split(X, y, test_size=0.2, random_state=42)"
   ],
   "metadata": {
    "collapsed": false,
    "ExecuteTime": {
     "end_time": "2024-08-16T08:08:26.995402700Z",
     "start_time": "2024-08-16T08:08:26.908855Z"
    }
   },
   "id": "faec00a50a7f3fa1"
  },
  {
   "cell_type": "markdown",
   "source": [
    "## 1. Catboost"
   ],
   "metadata": {
    "collapsed": false
   },
   "id": "804c0b1da3e16b97"
  },
  {
   "cell_type": "code",
   "execution_count": 8,
   "outputs": [
    {
     "name": "stdout",
     "output_type": "stream",
     "text": [
      "Best F1-Score: 0.8742058449809401\n",
      "Best Parameters: {'border_count': 200, 'bagging_temperature': 0.5, 'random_strength': 1, 'depth': 4, 'learning_rate': 0.05, 'l2_leaf_reg': 3, 'iterations': 200}\n"
     ]
    }
   ],
   "source": [
    "param_dist = {\n",
    "    'iterations': [100, 200, 500, 1000],\n",
    "    'learning_rate': [0.01, 0.05, 0.1, 0.2],\n",
    "    'depth': [4, 6, 8, 10],\n",
    "    'l2_leaf_reg': [1, 3, 5, 7, 9],\n",
    "    'border_count': [32, 50, 100, 200],\n",
    "    'bagging_temperature': [0, 0.2, 0.5, 1.0],\n",
    "    'random_strength': [1, 2, 5, 10]\n",
    "}\n",
    "CatboostClass = CatBoostClassifier(logging_level='Silent')\n",
    "random_search_cat = CatboostClass.randomized_search(\n",
    "    param_distributions=param_dist,\n",
    "    X=X_train,\n",
    "    y=y_train,\n",
    "    cv=5,\n",
    "    n_iter=50,\n",
    "    search_by_train_test_split=False,\n",
    "    refit=True,\n",
    "    plot=False,\n",
    "    verbose=False\n",
    ")\n",
    "best_model = random_search_cat['params']\n",
    "y_pred = CatboostClass.predict(X_test)\n",
    "f_score_cat = f1_score(y_test, y_pred)\n",
    "print(f\"Best F1-Score: {f_score_cat}\")\n",
    "print(f\"Best Parameters: {best_model}\")"
   ],
   "metadata": {
    "collapsed": false,
    "ExecuteTime": {
     "end_time": "2024-08-16T08:27:12.747502500Z",
     "start_time": "2024-08-16T08:08:26.963866700Z"
    }
   },
   "id": "51ac0985277d6baa"
  },
  {
   "cell_type": "markdown",
   "source": [
    "## 2.LightGBM"
   ],
   "metadata": {
    "collapsed": false
   },
   "id": "b13462162f864787"
  },
  {
   "cell_type": "code",
   "execution_count": 9,
   "outputs": [
    {
     "name": "stdout",
     "output_type": "stream",
     "text": [
      "Best F1-score: 0.8691232528589581\n",
      "Best Parameters: {'subsample': 0.9, 'reg_lambda': 1.0, 'reg_alpha': 1.0, 'num_leaves': 50, 'n_estimators': 1000, 'min_child_weight': 5, 'max_depth': 4, 'learning_rate': 0.01, 'colsample_bytree': 0.9}\n"
     ]
    }
   ],
   "source": [
    "model = LGBMClassifier(verbose=-1)\n",
    "param_dist = {\n",
    "    'n_estimators': [100, 200, 500, 1000],\n",
    "    'learning_rate': [0.01, 0.05, 0.1, 0.3],\n",
    "    'num_leaves': [20, 30, 40, 50],\n",
    "    'max_depth': [4, 6, 8, 10],\n",
    "    'subsample': [0.6, 0.7, 0.8, 0.9],\n",
    "    'colsample_bytree': [0.6, 0.7, 0.8, 0.9],\n",
    "    'min_child_weight': [1, 5, 10],\n",
    "    'reg_alpha': [0, 0.1, 0.5, 1.0],\n",
    "    'reg_lambda': [0, 0.1, 0.5, 1.0]\n",
    "}\n",
    "\n",
    "random_search_lgbm = RandomizedSearchCV(\n",
    "    estimator=model,\n",
    "    param_distributions=param_dist,\n",
    "    n_iter=50,\n",
    "    scoring='f1',\n",
    "    cv=5,\n",
    "    random_state=42\n",
    ")\n",
    "random_search_lgbm.fit(X_train, y_train)\n",
    "best_model = random_search_lgbm.best_estimator_\n",
    "y_pred = best_model.predict(X_test)\n",
    "f_score_lgbm = f1_score(y_test, y_pred)\n",
    "print(f\"Best F1-score: {f_score_lgbm}\")\n",
    "print(f\"Best Parameters: {random_search_lgbm.best_params_}\")"
   ],
   "metadata": {
    "collapsed": false,
    "ExecuteTime": {
     "end_time": "2024-08-16T08:28:18.654979100Z",
     "start_time": "2024-08-16T08:27:12.753502900Z"
    }
   },
   "id": "f30678434172b83f"
  },
  {
   "cell_type": "markdown",
   "source": [
    "## 3.RandomForest"
   ],
   "metadata": {
    "collapsed": false
   },
   "id": "8bd96aae3e807f4a"
  },
  {
   "cell_type": "code",
   "execution_count": 10,
   "outputs": [
    {
     "name": "stdout",
     "output_type": "stream",
     "text": [
      "Best F1_score: 0.8783610755441742\n",
      "Best Parameters: {'n_estimators': 200, 'min_samples_split': 2, 'min_samples_leaf': 1, 'max_features': 'sqrt', 'max_depth': 10, 'bootstrap': True}\n"
     ]
    }
   ],
   "source": [
    "model = RandomForestClassifier()\n",
    "\n",
    "param_dist = {\n",
    "    'n_estimators': [100, 200, 300, 500],\n",
    "    'max_features': ['auto', 'sqrt', 'log2'],\n",
    "    'max_depth': [5, 7, 10, 20, 30],\n",
    "    'min_samples_split': [2, 5, 10],\n",
    "    'min_samples_leaf': [1, 2, 4],\n",
    "    'bootstrap': [True, False]\n",
    "}\n",
    "\n",
    "random_search_rf = RandomizedSearchCV(\n",
    "    estimator=model,\n",
    "    param_distributions=param_dist,\n",
    "    n_iter=50,\n",
    "    scoring='f1',\n",
    "    cv=5,\n",
    "    random_state=42\n",
    ")\n",
    "random_search_rf.fit(X_train, y_train)\n",
    "best_model = random_search_rf.best_estimator_\n",
    "y_pred = best_model.predict(X_test)\n",
    "f_score_rf = f1_score(y_test, y_pred)\n",
    "print(f\"Best F1_score: {f_score_rf}\")\n",
    "print(f\"Best Parameters: {random_search_rf.best_params_}\")"
   ],
   "metadata": {
    "collapsed": false,
    "ExecuteTime": {
     "end_time": "2024-08-16T08:40:03.909577800Z",
     "start_time": "2024-08-16T08:28:18.654526Z"
    }
   },
   "id": "829aff7b03707ba4"
  }
 ],
 "metadata": {
  "kernelspec": {
   "display_name": "Python 3",
   "language": "python",
   "name": "python3"
  },
  "language_info": {
   "codemirror_mode": {
    "name": "ipython",
    "version": 2
   },
   "file_extension": ".py",
   "mimetype": "text/x-python",
   "name": "python",
   "nbconvert_exporter": "python",
   "pygments_lexer": "ipython2",
   "version": "2.7.6"
  }
 },
 "nbformat": 4,
 "nbformat_minor": 5
}
